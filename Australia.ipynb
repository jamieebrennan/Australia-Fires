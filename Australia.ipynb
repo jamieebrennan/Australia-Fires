Note: If you have cloned the repository, there is normally no need to install anything externally. If this is not the case, please let me know. The only thing that will need to be changed on the readers end is to change the paths to fit where the repository is on the machine.

using ArchGDAL, Rasters, Plots, Statistics, Shapefile, DataFrames, Dates, GeoInterface, DataFrames, GLM

# Define the winsorization function
function winsorize_image(image, low_percentile::Float64, high_percentile::Float64)
    min_value = quantile(vec(image), low_percentile)
    max_value = quantile(vec(image), high_percentile)
    winsorized_image = clamp.(image, min_value, max_value)
    return winsorized_image
end

#path for the raster file this is for june of 2018 NTL data
path = "/Users/jamiebrennan/Desktop/Australia_project/pre-fire_062018/"
prefireraster_2018 = Raster("$path/SVDNB_npp_20180601-20180630_00N060E_vcmcfg_v10_c201904251200.avg_rade9h.tif",lazy=true)

#this loads in the shapefile that we used in lecture so we can get the shape of australia
shp = Shapefile.Table("/Users/jamiebrennan/Desktop/Australia_project/all_primary_countries/all_primary_countries.shp") |> DataFrame

#using the shapefile we select australia
australia_index = findall( x -> x in ["Australia"], shp.name)

#defining the bounds for Australia and New South Wales
#only focusing on a portion of the country so we have to focus our NTL data within these longitude and latitude bounds
australia_bounds = (X(Rasters.Between(148,154)), Y(Rasters.Between(-37, -27)))
australia_2018_nl = prefireraster_2018[australia_bounds...]
nsw_bounds= (X(Rasters.Between(149, 153)), Y(Rasters.Between(-37, -28)))
# the center of syndey which is the nearest large city/urban area to the fire areas we are looking at which applies later
sydney_centroid = ArchGDAL.createpoint(151.2093, -33.8688)

#winsorizing to the 95% and 5% quantiles so we can see the NTL data more clearly and avoid the influence of outliers
winsorized_2018 = winsorize_image(australia_2018_nl, 0.05, 0.95)

#we create the shapefile for Australia
#using the shapefile we select just the shape of australia
Australia_shp = shp.geometry[australia_index]

#similar as above loading in data for june 2019 when fires began, this is NTL data
path = "/Users/jamiebrennan/Desktop/Australia_project/Start_fire062019/"
startfireraster_2019 = Raster("$path/SVDNB_npp_20190601-20190630_00N060E_vcmcfg_v10_c201907091100.avg_rade9h.tif",lazy=true)

startfire_2019_nl = startfireraster_2019[australia_bounds...]
winsorized_2019 = winsorize_image(startfire_2019_nl, 0.05, 0.95)

#similar as above loading in data for December 2019 when fires were at the peak intensity, this is NTL data
path = "/Users/jamiebrennan/Desktop/Australia_project/peak_fire/"
peakfireraster_2019 = Raster("$path/SVDNB_npp_20191201-20191231_00N060E_vcmcfg_v10_c202001140900.avg_rade9h.tif",lazy=true)
#repeat these winsorization and path functions for all of the NTL downloaded tiled data

#Once you have completed these steps you need to load in the fire data sets
#this loads in the shapefile data that shows the fires in the aream this is for 2019
fire_shp06_03 = Shapefile.Table("/Users/jamiebrennan/Desktop/Australia_project/DL_FIRE_M-C61_640929/fire_archive_M-C61_640929.shp") |> DataFrame
#Filtering the dataset to for specified region and to chose just the month of june 2019 when the fires began 
Fire_cropped0619 = filter(row -> row.LATITUDE <= -28 && row.LATITUDE >= -37 && row.LONGITUDE >= 149 && row.LONGITUDE <= 153 && (row.ACQ_DATE isa String ? Date(row.ACQ_DATE, "yyyy-mm-dd") : row.ACQ_DATE) >= Date(2019, 7, 15) && (row.ACQ_DATE isa String ? Date(row.ACQ_DATE, "yyyy-mm-dd") : row.ACQ_DATE) <= Date(2019, 7, 30), fire_shp06_03)
#The file is incredible large so you will need to filter through each file to disect smaller amounts of data points. Make sure the filtering is the same for each data set so each is comparable.

#this is cropped chapefile data for just the month of december in 2019
Fire_cropped1219 = filter(row -> row.LATITUDE <= -28 && row.LATITUDE >= -37 && row.LONGITUDE >= 149 && row.LONGITUDE <= 153 && (row.ACQ_DATE isa String ? Date(row.ACQ_DATE, "yyyy-mm-dd") : row.ACQ_DATE) >= Date(2019, 12, 20) && (row.ACQ_DATE isa String ? Date(row.ACQ_DATE, "yyyy-mm-dd") : row.ACQ_DATE) <= Date(2019, 12, 30), fire_shp06_03)

#repeat this step for all of the fire data from 2018-2020

#afterwards you will want to visualize all of the data you have downloaded
#you will do this for all of the years and their coinciding fire data which you will overlay onto the NTL
#making a plot of the NTL data and laying the fire shapefile ontop of it
reference_raster = winsorized_2018[nsw_bounds...]
fire_masked = mask(reference_raster, with = shp.geometry[australia_index])
plot(fire_masked, title = " Before Fire Areas in New South Wales 2018", label="Masked Fire Areas")
xlabel!("Longitude")
ylabel!("Latitude")

# Add axis labels
xlabel!("Longitude")
ylabel!("Latitude")
#this is before the fires we are observing occur so the points on here are unrelated bushfires
no_fires = plot!(fire_cropped_2018.geometry)

#now you will apply summary statistics and a final regression 
# calculate means by using this
mean_intensity_2019 = mean(winsorized_2019[nsw_bounds...])
#repeat this step for all of the plots

#now do the same thing for the fire data for all of the years using this format
#count number of fire events in each year
#2018 is going to be the baseline or control year for the analysis
#number of fire events for each month focused in accordance with the year
fire_count_2018 = nrow(fire_cropped_2018)

#Use the above summary statitics to create a dataframe for regression analysis
data = DataFrame(
    Period = ["June 2018", "June 2019", "December 2019", "March 2020", "March 2021", "March 2023", "March 2025"],
    Year = [2018, 2019, 2019.5, 2020, 2021, 2023, 2025],  
    Mean_NTL = [0.15432822639926536, 0.18425919374112731, 0.1372941367092859, 
                0.2883598212797565, 0.20478461753139168, 0.22130492400122248, 0.23130492400122248],
    Fire_Count = [476, 651, 10658, 294, 142, 0, 0] 
)

#Accounting for differences relative to the 2018 control year
#Fire_Diff_2018 applies the Fire count minus 2018 count (476) to asses changes
#NTL_Diff_2018: NTL data from sequential years minus 2018 intensity (0.1543) asses changes
#Time is for the years after 2018
fire_diff18 = data.Fire_Count .- data.Fire_Count[1]
ntl_diff18 = data.Mean_NTL .- data.Mean_NTL[1]      
data.Time = data.Year .- 2018        

#now you can compute a regression
#Multiple Linear Regression formula for coefficients table
regression = lm(@formula(Mean_NTL ~ Fire_Count + Time), data)

#Time series showing relationshiop between NTL and Fire Count
graph = plot(data.Period, data.Mean_NTL, marker=:circle, label="Mean NTL", 
          ylabel="Mean NTL Intensity", title="NTL and Fire Count Over Time", 
          xticks=(1:nrow(data), data.Period), xrotation=45, legend=:topleft)
plot!(twinx(), data.Period, data.Fire_Count, marker=:square, color=:red, 
      label="Fire Count", ylabel="Fire Count", legend=:topright)

To delve into how distance impacts recovery we need to implement more specific data points to calculate distance to a city center
# center points of regions in New South Wales and main city of sydney
#using to compare national park distance from sydney
sydney_center = ArchGDAL.createpoint(151.2093, -33.8688)
blue_mountains_center = ArchGDAL.createpoint(150.35, -33.55)
southeast_center = ArchGDAL.createpoint(149.72, -36.89)
washpool_center = ArchGDAL.createpoint(152.32, -29.62)

# using the same raster and bounds as we used earlier 
#this plot is just to show visually the distances of the parks from sydney
#backround doesn't really matter
reference_raster = winsorized_2021[nsw_bounds...]
fire_masked = mask(reference_raster, with = shp.geometry[australia_index])
plot(fire_masked, title="The Distances of The National Parks from Sydney", label="Masked Fire Areas")
xlabel!("Longitude")
ylabel!("Latitude")

#create a plot to aid in the distance visualization
# Add axis labels
xlabel!("Longitude")
ylabel!("Latitude")
#plotting the center points to visualize their poximity to eachother
sydney = plot!(sydney_center, marker=:circle, color=:red, label="Sydney")
blue_mountains = plot!(blue_mountains_center, marker=:circle, color=:blue, label="Blue Mountains")
southeastforests_park = plot!(southeast_center, marker=:circle, color=:orange, label="South East Forests National Park")
washpool_park = plot!(washpool_center, marker=:circle, color=:purple, label="Washpool National Park")

#create bounding boxes for the parks to see if we can then see changes in specific regions of NTL data overtime
#this will help you gather changes over time with more specific boundaries
#for individual assessments of areas and setting boundary to asses how they were affected by fires
sydney_bounds = (X(Rasters.Between(150.25, 151.4)), Y(Rasters.Between(-34.4, -33.5)))
blue_mountains_bounds = (X(Rasters.Between(149, 150.0)), Y(Rasters.Between(-34.0, -33.0)))
southeastforests_bounds = (X(Rasters.Between(147.5, 149.0)), Y(Rasters.Between(-38.0, -36.0)))
washpool_bounds = (X(Rasters.Between(152.0, 153.0)), Y(Rasters.Between(-30.0, -29.0)))


#making sure the bounds are correct
#not using this plot for anything other than a test of the bounds
reference_raster = winsorized_2020[sydney_bounds...]
fire_masked = mask(reference_raster, with = shp.geometry[australia_index])
plot(fire_masked, title="Individual Sydney Test", label="Masked Fire Areas")
xlabel!("Longitude")
ylabel!("Latitude")

#want to use summary statistics to see how the NTL data changes in these regions over time
#useful for potential recovery analysis
#begin with sydney
mean_intensity_2018 = mean(winsorized_2018[sydney_bounds...])
mean_intensity_2019 = mean(winsorized_2019[sydney_bounds...])
mean_intensity_2019pf = mean(winsorized_2019pf[sydney_bounds...])
mean_intensity_2020 = mean(winsorized_2020[sydney_bounds...])
mean_intensity_2021 = mean(winsorized_2021[sydney_bounds...])
mean_intensity_2023 = mean(winsorized_2023[sydney_bounds...])
mean_intensity_2025 = mean(winsorized_2025[sydney_bounds...])
#print the results for sydney
println("Sydney NTL Intensity (2018-2023):")
println("2018: ", mean_intensity_2018)
println("2019: ", mean_intensity_2019)
println("2019 Peak: ", mean_intensity_2019pf)
println("2020: ", mean_intensity_2020)
println("2021: ", mean_intensity_2021)
println("2023: ", mean_intensity_2023)
println("2025: ", mean_intensity_2025)

#want to use summary statistics to see how the NTL data changes in these regions over time
#useful for potential recovery analysis
#blue mountains
mean_intensity_2018 = mean(winsorized_2018[blue_mountains_bounds...])
mean_intensity_2019 = mean(winsorized_2019[blue_mountains_bounds...])
mean_intensity_2019pf = mean(winsorized_2019pf[blue_mountains_bounds...])
mean_intensity_2020 = mean(winsorized_2020[blue_mountains_bounds...])
mean_intensity_2021 = mean(winsorized_2021[blue_mountains_bounds...])
mean_intensity_2023 = mean(winsorized_2023[blue_mountains_bounds...])
mean_intensity_2025 = mean(winsorized_2025[blue_mountains_bounds...])
#print the results for blue mountains
println("Blue Mountains NTL Intensity (2018-2023):")
println("2018: ", mean_intensity_2018)
println("2019: ", mean_intensity_2019)
println("2019 Peak: ", mean_intensity_2019pf)
println("2020: ", mean_intensity_2020)
println("2021: ", mean_intensity_2021)
println("2023: ", mean_intensity_2023)
println("2025: ", mean_intensity_2025)

#want to use summary statistics to see how the NTL data changes in these regions over time
#useful for potential recovery analysis
#southeast forest
mean_intensity_2018 = mean(winsorized_2018[southeastforests_bounds...])
mean_intensity_2019 = mean(winsorized_2019[southeastforests_bounds...])
mean_intensity_2019pf = mean(winsorized_2019pf[southeastforests_bounds...])
mean_intensity_2020 = mean(winsorized_2020[southeastforests_bounds...])
mean_intensity_2021 = mean(winsorized_2021[southeastforests_bounds...])
mean_intensity_2023 = mean(winsorized_2023[southeastforests_bounds...])
mean_intensity_2025 = mean(winsorized_2025[southeastforests_bounds...])
#print the results for southeast forest
println("Southeast Forest NTL Intensity (2018-2023):")
println("2018: ", mean_intensity_2018)
println("2019: ", mean_intensity_2019)
println("2019 Peak: ", mean_intensity_2019pf)
println("2020: ", mean_intensity_2020)
println("2021: ", mean_intensity_2021)
println("2023: ", mean_intensity_2023)
println("2025: ", mean_intensity_2025)

#want to use summary statistics to see how the NTL data changes in these regions over time
#useful for potential recovery analysis
#southeast forest
mean_intensity_2018 = mean(winsorized_2018[washpool_bounds...])
mean_intensity_2019 = mean(winsorized_2019[washpool_bounds...])
mean_intensity_2019pf = mean(winsorized_2019pf[washpool_bounds...])
mean_intensity_2020 = mean(winsorized_2020[washpool_bounds...])
mean_intensity_2021 = mean(winsorized_2021[washpool_bounds...])
mean_intensity_2023 = mean(winsorized_2023[washpool_bounds...])
mean_intensity_2025 = mean(winsorized_2025[washpool_bounds...])
#print the results for southeast forest
println("washpool Forest NTL Intensity (2018-2023):")
println("2018: ", mean_intensity_2018)
println("2019: ", mean_intensity_2019)
println("2019 Peak: ", mean_intensity_2019pf)
println("2020: ", mean_intensity_2020)
println("2021: ", mean_intensity_2021)
println("2023: ", mean_intensity_2023)
println("2025: ", mean_intensity_2025)


#distances of sydney from sydney, 
#distance blue mountains, south east forest and washpool from sydney in kilometers
distances = [0.0, 81.47, 368.92, 468.22]

#Link location to mean NTL data to create DataFrame with NTL data and distances
#arrange output by year and in order of region
averages = DataFrame(
    location = ["Sydney", "Blue Mountains", "South East Forest", "Washpool"],
    Mean_NTL_2018 = [0.24815729458601732, 0.17770837376776288, 0.148618021548938, 0.14008700844664856],
    Mean_NTL_2019 = [0.2843364016855998, 0.17921692542685458, 0.18364892083753614, 0.16822079476153315],
    Mean_NTL_2019pf = [0.4375741288204841, 0.14712470076375336, 0.12354685670328258, 0.1466809059924413],
    Mean_NTL_2020 = [0.3890060085703404, 0.30043994439443145, 0.2717476934121521, 0.2797018612687577],
    Mean_NTL_2021 = [0.302141561510573, 0.21708793584993996, 0.20111412610949006, 0.20164300331141888],
    Mean_NTL_2023 = [0.33199932683358485, 0.24147598975973114, 0.23866353893903614, 0.20965564319085317],
    Mean_NTL_2025 = [0.46798951347484147, 0.37055951452627145, 0.3284506586136177, 0.301393008616274],
    Distance_to_Sydney = distances

#calculate recovery speed for each region
#sydney
sydney_recovery_speed = (averages.Mean_NTL_2025[1] - averages.Mean_NTL_2020[1]) / 6
#blue mountains
blue_mountains_recovery_speed = (averages.Mean_NTL_2025[2] - averages.Mean_NTL_2020[2]) / 6
#southeast forests
southeast_forests_recovery_speed = (averages.Mean_NTL_2025[3] - averages.Mean_NTL_2020[3]) / 6
#washpool
washpool_recovery_speed = (averages.Mean_NTL_2025[4] - averages.Mean_NTL_2020[4]) / 6

# Create a DataFrame to summarize the recovery speeds
recovery_speeds = DataFrame(
    Location = ["Sydney", "Blue Mountains", "South East Forests", "Washpool"],
    Recovery_Speed = [sydney_recovery_speed, blue_mountains_recovery_speed, southeast_forests_recovery_speed, washpool_recovery_speed])
#Scatter plot to visualize recovery speed vs. distance to Sydney
p = scatter(averages.Distance_to_Sydney, recovery_speeds.Recovery_Speed,
            group=averages.location,
            xlabel="Distance to Sydney (km)",
            ylabel="Recovery Speed (NTL/year, 2020-2021)",
            title="Recovery Speed vs. Distance to Sydney",
            markersize=6, legend=:topright)
plot(p)

