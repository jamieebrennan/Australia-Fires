Note: If you have cloned the repository, there is normally no need to install anything externally. If this is not the case, please let me know. The only thing that will need to be changed on the readers end is to change the paths to fit where the repository is on the machine.

Link to Nighttime Lights Dataset: https://payneinstitute.mines.edu/eog/
#Install the Libraries
using ArchGDAL, Rasters, Plots, Statistics, Shapefile, DataFrames, Dates, GeoInterface, DataFrames, GLM
# Define the winsorization function
function winsorize_image(image, low_percentile::Float64, high_percentile::Float64)
    min_value = quantile(vec(image), low_percentile)
    max_value = quantile(vec(image), high_percentile)
    winsorized_image = clamp.(image, min_value, max_value)
    return winsorized_image
end
